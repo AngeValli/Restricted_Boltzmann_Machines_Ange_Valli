{
  "nbformat": 4,
  "nbformat_minor": 0,
  "metadata": {
    "colab": {
      "name": "Restricted_Boltzmann_Machines_Ange_Valli.ipynb",
      "provenance": [],
      "collapsed_sections": [],
      "mount_file_id": "1o9SgZVD7TIvfBBsowJ4bmpRHoS_MkCuQ",
      "authorship_tag": "ABX9TyM5omuiaIz1YgeYogegvHRG"
    },
    "kernelspec": {
      "name": "python3",
      "display_name": "Python 3"
    },
    "accelerator": "GPU"
  },
  "cells": [
    {
      "cell_type": "markdown",
      "metadata": {
        "id": "Fwlx5qpdU0pW"
      },
      "source": [
        "See original notebook : https://colab.research.google.com/drive/1hp14O7a8KYpW2e-hZOncjGeAgWJiv9Kk"
      ]
    },
    {
      "cell_type": "markdown",
      "metadata": {
        "id": "yajur1TIUlYo"
      },
      "source": [
        "# Restricted Boltzmann Machine"
      ]
    },
    {
      "cell_type": "markdown",
      "metadata": {
        "id": "uCRs9dLwUazY"
      },
      "source": [
        "The aim of this project is to construct a Restricted Boltzmann Machine with Constraint-Divergence 1 algorithm\n",
        "\n",
        "![picture](https://drive.google.com/uc?export=view&id=1cfSpd35npnSvmQcsPUY8FLT096Y8JIGs)"
      ]
    },
    {
      "cell_type": "markdown",
      "metadata": {
        "id": "i0lmH90ydeKr"
      },
      "source": [
        "# Imports"
      ]
    },
    {
      "cell_type": "code",
      "metadata": {
        "id": "3_iRQB5zda8F"
      },
      "source": [
        "import numpy as np\n",
        "import sys\n",
        "from scipy.io.matlab import mio\n",
        "import matplotlib.pyplot as plt\n",
        "import random"
      ],
      "execution_count": 6,
      "outputs": []
    },
    {
      "cell_type": "markdown",
      "metadata": {
        "id": "LYu23OwkPf0K"
      },
      "source": [
        "# Datasets"
      ]
    },
    {
      "cell_type": "markdown",
      "metadata": {
        "id": "y7sF5w_LTlEc"
      },
      "source": [
        "The datasets considered in this project are the following :\n",
        "- Binary Alpha Digits, which contains binary images of size 20*16 representing numbers from 0 to 9 and upper letters from A to Z.\n",
        "- MNIST which contains 8-bits images in shades of grey of size 28*28 representing numbers from 0 to 9\n",
        "- USPS which contains 8-bits images in shades of grey of size 16*16 representing numbers from 0 to 9"
      ]
    },
    {
      "cell_type": "code",
      "metadata": {
        "id": "S3eDb_vAPh7a"
      },
      "source": [
        "!wget https://cs.nyu.edu/~roweis/data/mnist_all.mat\n",
        "!wget https://cs.nyu.edu/~roweis/data/usps_all.mat\n",
        "!wget https://cs.nyu.edu/~roweis/data/binaryalphadigs.mat"
      ],
      "execution_count": null,
      "outputs": []
    },
    {
      "cell_type": "markdown",
      "metadata": {
        "id": "Gd429s33dS-9"
      },
      "source": [
        "# Class definition"
      ]
    },
    {
      "cell_type": "code",
      "metadata": {
        "id": "SIUxnbNxc9Ua"
      },
      "source": [
        "class RBM:\n",
        "    \"\"\"Random Boltzman Machine\"\"\"\n",
        "    def __init__(self, input_size: int, output_size: int):\n",
        "        self.W = 0.01*np.random.randn(input_size,output_size)\n",
        "        self.a = np.zeros((1,input_size))\n",
        "        self.b = np.zeros((1,output_size))\n",
        "        self.p = input_size\n",
        "        self.q = output_size\n",
        "\n",
        "    def input_output(self, v):\n",
        "        # size = (v.shape[0],self.q)\n",
        "        return sigmoid(v@self.W + self.b)\n",
        "\n",
        "    def output_input(self,h):\n",
        "        # size = (h.shape[0],self.p)\n",
        "        return sigmoid(h@self.W.T + self.a)\n",
        "\n",
        "    def train(self, x, epochs: int=5000, lr: float =1e-1, minibatchsize: int = 10):\n",
        "        \"\"\"\n",
        "        Training of the Restricted Boltzmann Machine on data x\n",
        "        \"\"\"\n",
        "        for epoch in range(epochs):\n",
        "            # shuffle data\n",
        "            np.random.shuffle(x)\n",
        "            n = x.shape[0] - data.shape[0]%minibatchsize # for n to be a multiple of minibatchsize\n",
        "            for batch in range(0,n,minibatchsize):\n",
        "                data_batch = x[batch:batch+minibatchsize,:].copy()\n",
        "                v0 = data_batch.copy()\n",
        "                proba_h0 = self.input_output(v0)\n",
        "                # random sample of the output, obtained from the data, following a Bernouilli distribution\n",
        "                h0 = (np.random.rand(minibatchsize,self.q) < proba_h0).astype(int)\n",
        "                proba_v1 = self.output_input(h0)\n",
        "                v1 = (np.random.rand(minibatchsize,self.p) < proba_v1).astype(int)\n",
        "                proba_h1 = self.input_output(v1)\n",
        "                # compute the loss function\n",
        "                L = np.sum(np.power(v0-v1,2))/minibatchsize\n",
        "                # starting update\n",
        "                # averaging the update over the whole minibatch\n",
        "                dL_W = (data_batch.T@proba_h0-v1.T@proba_h1)/minibatchsize\n",
        "                dL_a = np.ones(shape=(1,minibatchsize))@(v0-v1)/minibatchsize\n",
        "                dL_b = np.ones(shape=(1,minibatchsize))@(proba_h0-proba_h1)/minibatchsize\n",
        "                self.W+=lr*dL_W\n",
        "                self.a+=lr*dL_a\n",
        "                self.b+=lr*dL_b\n",
        "            if epoch%10==0:\n",
        "                print(\"  Loss : %f  |  epoch %d/%d\" %(L, epoch+1,epochs))\n",
        "\n",
        "def sigmoid(z):\n",
        "    return 1/(1 + np.exp(-z))\n",
        "\n",
        "def generate_image(RBM_instance, iter_gibbs, nb_img):\n",
        "    \"\"\"\n",
        "    Generate an image from a Restricted Boltzmann Machine instance using a Gibbs sampler\n",
        "    \"\"\"\n",
        "    d=np.zeros((width,1))\n",
        "    space=np.zeros((width,1))#separate the generated images with a blank column\n",
        "    for i in range(nb_img):\n",
        "        plt.figure()\n",
        "        v = (np.random.rand(RBM_instance.p) < 0.5)*1\n",
        "        for j in range(iter_gibbs):\n",
        "            h = (np.random.rand(RBM_instance.q) < RBM_instance.input_output(v))*1\n",
        "            v = (np.random.rand(RBM_instance.p) < RBM_instance.output_input(h))*1\n",
        "        \n",
        "        v=v.reshape(width,height)\n",
        "        d=np.concatenate((d,v),axis=1)\n",
        "        d=np.concatenate((d,space),axis=1)\n",
        "    plt.imshow(d)\n",
        "\n",
        "\n",
        "def read_alpha_digits(caractères):\n",
        "    \"\"\"\n",
        "    Read data from dataset and flatten the samples\n",
        "    \"\"\"\n",
        "    matrice = []\n",
        "    for caractère in caractères:\n",
        "        for example in fichier['dat'][caractère]:\n",
        "            matrice.append(example.reshape(width*height)) # Reshape with size 20*16\n",
        "    return np.array(matrice)\n",
        "\n",
        "\n",
        "def read_mnist(caractères):\n",
        "    \"\"\"\n",
        "    Read data from dataset and flatten the samples\n",
        "    \"\"\"\n",
        "    matrice, samples = [], []\n",
        "    for caractère in caractères:\n",
        "        for example in fichier['train'+str(caractère)]:\n",
        "            example = (example > 255/2)*1  # Binarization of data\n",
        "            samples.append(example.reshape(28*28)) # Reshape with size 28*28\n",
        "        samples = random.sample(samples, 250) # Selecting only 250 samples for a better computation time\n",
        "        matrice += samples\n",
        "    return np.array(matrice)\n",
        "\n",
        "\n",
        "def read_usps(caractères):\n",
        "    \"\"\"\n",
        "    Read data from dataset and flatten the samples\n",
        "    \"\"\"\n",
        "    matrice, samples = [], []\n",
        "    data = np.swapaxes(fichier['data'], 0, 2)\n",
        "    for caractère in caractères:\n",
        "        for example in data[caractère]:\n",
        "            example = (example > 255/2)*1  # Binarization of data\n",
        "            samples.append(example.reshape(16*16))  # Reshape with size 16*16\n",
        "        samples = random.sample(samples, 250) # Selecting only 250 samples for a better computation time\n",
        "        matrice += samples\n",
        "    return np.array(matrice)\n",
        "\n",
        "def loss(v,v1):\n",
        "    return np.sum(np.power((v-v1),2))"
      ],
      "execution_count": 3,
      "outputs": []
    },
    {
      "cell_type": "markdown",
      "metadata": {
        "id": "t76Q5_5edoRZ"
      },
      "source": [
        "# Main"
      ]
    },
    {
      "cell_type": "code",
      "metadata": {
        "id": "LjI0I2pSdwT3"
      },
      "source": [
        "# Dataset selection\n",
        "dataset = 'mnist' # 'usps' 'binaryalphadigits'"
      ],
      "execution_count": 4,
      "outputs": []
    },
    {
      "cell_type": "code",
      "metadata": {
        "colab": {
          "base_uri": "https://localhost:8080/",
          "height": 1000
        },
        "id": "ZCG51olgdslI",
        "outputId": "347be06b-01fa-4503-bcc5-0ac9a5f878d6"
      },
      "source": [
        "if __name__ == \"__main__\":\n",
        "\n",
        "    if dataset == \"binaryalphadigs\":\n",
        "        width, height = 20, 16\n",
        "        fichier = mio.loadmat(\"./binaryalphadigs\")\n",
        "        data=read_alpha_digits([10,11,12,13,14])\n",
        "        h=RBM(320,200) # RBM of size 320 = 20*16\n",
        "        h.train(data)\n",
        "\n",
        "    elif dataset == \"mnist\":\n",
        "        width, height = 28, 28\n",
        "        fichier = mio.loadmat(\"./mnist_all\")\n",
        "        data=read_mnist([0,1,2])\n",
        "        h=RBM(784,200) # RBM of size 784 = 28*28\n",
        "        h.train(data)\n",
        "\n",
        "    elif dataset == \"usps\":\n",
        "        width, height = 16, 16\n",
        "        fichier = mio.loadmat(\"./usps_all\")\n",
        "        data=read_usps([2,3,4,5,6])\n",
        "        h=RBM(256,200) # RBM of size 256 = 16*16\n",
        "        h.train(data)\n",
        "    \n",
        "    generate_image(h,5000,10)\n",
        "\n",
        "    #pick a random sample and verify the loss between the sample and the reconstructed image\n",
        "    #i=random.randint(0,data.shape[0])\n",
        "\n",
        "    #character=data[i]\n",
        "    #reconstructed_char=h.output_input(h.input_output(character))\n",
        "    #print(loss(character,reconstructed_char))\n",
        "    #character=character.reshape(width,height)\n",
        "    #reconstructed_char=reconstructed_char.reshape(width,height)\n",
        "    #plt.figure()\n",
        "    #plt.imshow(np.concatenate((character,reconstructed_char),axis=1))\n",
        "    #plt.show()"
      ],
      "execution_count": null,
      "outputs": [
        {
          "output_type": "stream",
          "name": "stdout",
          "text": [
            "  Loss : 87.500000  |  epoch 1/5000\n",
            "  Loss : 46.100000  |  epoch 11/5000\n",
            "  Loss : 31.500000  |  epoch 21/5000\n",
            "  Loss : 34.800000  |  epoch 31/5000\n",
            "  Loss : 27.500000  |  epoch 41/5000\n",
            "  Loss : 15.100000  |  epoch 51/5000\n",
            "  Loss : 34.700000  |  epoch 61/5000\n",
            "  Loss : 25.800000  |  epoch 71/5000\n",
            "  Loss : 15.800000  |  epoch 81/5000\n",
            "  Loss : 16.200000  |  epoch 91/5000\n",
            "  Loss : 16.200000  |  epoch 101/5000\n",
            "  Loss : 12.400000  |  epoch 111/5000\n",
            "  Loss : 13.200000  |  epoch 121/5000\n",
            "  Loss : 15.600000  |  epoch 131/5000\n",
            "  Loss : 9.600000  |  epoch 141/5000\n",
            "  Loss : 11.700000  |  epoch 151/5000\n",
            "  Loss : 9.900000  |  epoch 161/5000\n",
            "  Loss : 10.400000  |  epoch 171/5000\n",
            "  Loss : 10.600000  |  epoch 181/5000\n",
            "  Loss : 13.800000  |  epoch 191/5000\n",
            "  Loss : 11.900000  |  epoch 201/5000\n",
            "  Loss : 11.400000  |  epoch 211/5000\n",
            "  Loss : 7.000000  |  epoch 221/5000\n",
            "  Loss : 7.600000  |  epoch 231/5000\n",
            "  Loss : 7.700000  |  epoch 241/5000\n",
            "  Loss : 5.100000  |  epoch 251/5000\n",
            "  Loss : 9.600000  |  epoch 261/5000\n",
            "  Loss : 8.100000  |  epoch 271/5000\n",
            "  Loss : 7.600000  |  epoch 281/5000\n",
            "  Loss : 5.300000  |  epoch 291/5000\n",
            "  Loss : 5.800000  |  epoch 301/5000\n",
            "  Loss : 8.200000  |  epoch 311/5000\n",
            "  Loss : 5.300000  |  epoch 321/5000\n",
            "  Loss : 7.600000  |  epoch 331/5000\n",
            "  Loss : 7.000000  |  epoch 341/5000\n",
            "  Loss : 7.500000  |  epoch 351/5000\n",
            "  Loss : 6.600000  |  epoch 361/5000\n",
            "  Loss : 7.100000  |  epoch 371/5000\n",
            "  Loss : 2.200000  |  epoch 381/5000\n",
            "  Loss : 5.500000  |  epoch 391/5000\n",
            "  Loss : 4.300000  |  epoch 401/5000\n",
            "  Loss : 8.200000  |  epoch 411/5000\n",
            "  Loss : 7.000000  |  epoch 421/5000\n",
            "  Loss : 3.900000  |  epoch 431/5000\n",
            "  Loss : 5.000000  |  epoch 441/5000\n",
            "  Loss : 5.200000  |  epoch 451/5000\n",
            "  Loss : 2.600000  |  epoch 461/5000\n",
            "  Loss : 4.200000  |  epoch 471/5000\n",
            "  Loss : 4.600000  |  epoch 481/5000\n",
            "  Loss : 6.400000  |  epoch 491/5000\n",
            "  Loss : 6.800000  |  epoch 501/5000\n",
            "  Loss : 5.600000  |  epoch 511/5000\n",
            "  Loss : 4.600000  |  epoch 521/5000\n",
            "  Loss : 4.000000  |  epoch 531/5000\n",
            "  Loss : 3.700000  |  epoch 541/5000\n",
            "  Loss : 4.600000  |  epoch 551/5000\n",
            "  Loss : 3.600000  |  epoch 561/5000\n",
            "  Loss : 3.300000  |  epoch 571/5000\n",
            "  Loss : 4.800000  |  epoch 581/5000\n",
            "  Loss : 3.500000  |  epoch 591/5000\n",
            "  Loss : 3.100000  |  epoch 601/5000\n",
            "  Loss : 2.900000  |  epoch 611/5000\n",
            "  Loss : 2.800000  |  epoch 621/5000\n",
            "  Loss : 5.400000  |  epoch 631/5000\n",
            "  Loss : 3.500000  |  epoch 641/5000\n",
            "  Loss : 4.000000  |  epoch 651/5000\n",
            "  Loss : 1.600000  |  epoch 661/5000\n",
            "  Loss : 2.600000  |  epoch 671/5000\n",
            "  Loss : 4.600000  |  epoch 681/5000\n",
            "  Loss : 2.100000  |  epoch 691/5000\n",
            "  Loss : 2.600000  |  epoch 701/5000\n",
            "  Loss : 3.200000  |  epoch 711/5000\n",
            "  Loss : 3.300000  |  epoch 721/5000\n",
            "  Loss : 2.700000  |  epoch 731/5000\n",
            "  Loss : 3.100000  |  epoch 741/5000\n",
            "  Loss : 1.400000  |  epoch 751/5000\n",
            "  Loss : 4.900000  |  epoch 761/5000\n",
            "  Loss : 3.700000  |  epoch 771/5000\n",
            "  Loss : 2.800000  |  epoch 781/5000\n",
            "  Loss : 3.200000  |  epoch 791/5000\n",
            "  Loss : 2.300000  |  epoch 801/5000\n",
            "  Loss : 2.200000  |  epoch 811/5000\n",
            "  Loss : 2.300000  |  epoch 821/5000\n",
            "  Loss : 2.200000  |  epoch 831/5000\n",
            "  Loss : 2.200000  |  epoch 841/5000\n",
            "  Loss : 2.300000  |  epoch 851/5000\n",
            "  Loss : 3.600000  |  epoch 861/5000\n",
            "  Loss : 2.500000  |  epoch 871/5000\n",
            "  Loss : 2.800000  |  epoch 881/5000\n",
            "  Loss : 1.800000  |  epoch 891/5000\n",
            "  Loss : 1.200000  |  epoch 901/5000\n",
            "  Loss : 2.800000  |  epoch 911/5000\n",
            "  Loss : 3.500000  |  epoch 921/5000\n",
            "  Loss : 4.000000  |  epoch 931/5000\n",
            "  Loss : 2.400000  |  epoch 941/5000\n",
            "  Loss : 3.100000  |  epoch 951/5000\n",
            "  Loss : 2.600000  |  epoch 961/5000\n",
            "  Loss : 1.500000  |  epoch 971/5000\n",
            "  Loss : 2.000000  |  epoch 981/5000\n",
            "  Loss : 1.600000  |  epoch 991/5000\n",
            "  Loss : 1.900000  |  epoch 1001/5000\n",
            "  Loss : 2.000000  |  epoch 1011/5000\n",
            "  Loss : 1.800000  |  epoch 1021/5000\n",
            "  Loss : 2.400000  |  epoch 1031/5000\n",
            "  Loss : 2.000000  |  epoch 1041/5000\n",
            "  Loss : 2.200000  |  epoch 1051/5000\n",
            "  Loss : 3.700000  |  epoch 1061/5000\n",
            "  Loss : 1.600000  |  epoch 1071/5000\n",
            "  Loss : 1.900000  |  epoch 1081/5000\n",
            "  Loss : 1.700000  |  epoch 1091/5000\n",
            "  Loss : 1.300000  |  epoch 1101/5000\n",
            "  Loss : 2.100000  |  epoch 1111/5000\n",
            "  Loss : 1.100000  |  epoch 1121/5000\n",
            "  Loss : 0.900000  |  epoch 1131/5000\n",
            "  Loss : 2.600000  |  epoch 1141/5000\n",
            "  Loss : 1.800000  |  epoch 1151/5000\n",
            "  Loss : 2.000000  |  epoch 1161/5000\n",
            "  Loss : 1.100000  |  epoch 1171/5000\n",
            "  Loss : 2.200000  |  epoch 1181/5000\n",
            "  Loss : 2.500000  |  epoch 1191/5000\n",
            "  Loss : 1.300000  |  epoch 1201/5000\n",
            "  Loss : 2.200000  |  epoch 1211/5000\n",
            "  Loss : 1.900000  |  epoch 1221/5000\n",
            "  Loss : 1.200000  |  epoch 1231/5000\n",
            "  Loss : 1.000000  |  epoch 1241/5000\n",
            "  Loss : 1.700000  |  epoch 1251/5000\n",
            "  Loss : 3.400000  |  epoch 1261/5000\n",
            "  Loss : 2.100000  |  epoch 1271/5000\n",
            "  Loss : 1.500000  |  epoch 1281/5000\n",
            "  Loss : 1.300000  |  epoch 1291/5000\n",
            "  Loss : 0.900000  |  epoch 1301/5000\n",
            "  Loss : 1.500000  |  epoch 1311/5000\n",
            "  Loss : 2.100000  |  epoch 1321/5000\n",
            "  Loss : 2.000000  |  epoch 1331/5000\n",
            "  Loss : 1.300000  |  epoch 1341/5000\n",
            "  Loss : 2.600000  |  epoch 1351/5000\n",
            "  Loss : 0.900000  |  epoch 1361/5000\n",
            "  Loss : 1.500000  |  epoch 1371/5000\n",
            "  Loss : 1.700000  |  epoch 1381/5000\n",
            "  Loss : 1.200000  |  epoch 1391/5000\n",
            "  Loss : 2.000000  |  epoch 1401/5000\n",
            "  Loss : 2.000000  |  epoch 1411/5000\n",
            "  Loss : 2.100000  |  epoch 1421/5000\n",
            "  Loss : 1.800000  |  epoch 1431/5000\n",
            "  Loss : 1.800000  |  epoch 1441/5000\n",
            "  Loss : 1.300000  |  epoch 1451/5000\n",
            "  Loss : 2.100000  |  epoch 1461/5000\n",
            "  Loss : 1.900000  |  epoch 1471/5000\n",
            "  Loss : 1.000000  |  epoch 1481/5000\n",
            "  Loss : 1.500000  |  epoch 1491/5000\n",
            "  Loss : 2.200000  |  epoch 1501/5000\n",
            "  Loss : 1.500000  |  epoch 1511/5000\n",
            "  Loss : 0.800000  |  epoch 1521/5000\n",
            "  Loss : 0.300000  |  epoch 1531/5000\n",
            "  Loss : 1.200000  |  epoch 1541/5000\n",
            "  Loss : 0.500000  |  epoch 1551/5000\n",
            "  Loss : 1.800000  |  epoch 1561/5000\n",
            "  Loss : 1.200000  |  epoch 1571/5000\n",
            "  Loss : 2.300000  |  epoch 1581/5000\n",
            "  Loss : 1.700000  |  epoch 1591/5000\n",
            "  Loss : 1.500000  |  epoch 1601/5000\n",
            "  Loss : 1.400000  |  epoch 1611/5000\n",
            "  Loss : 1.400000  |  epoch 1621/5000\n",
            "  Loss : 0.400000  |  epoch 1631/5000\n",
            "  Loss : 0.800000  |  epoch 1641/5000\n",
            "  Loss : 1.000000  |  epoch 1651/5000\n",
            "  Loss : 1.300000  |  epoch 1661/5000\n",
            "  Loss : 1.400000  |  epoch 1671/5000\n",
            "  Loss : 0.700000  |  epoch 1681/5000\n",
            "  Loss : 1.600000  |  epoch 1691/5000\n",
            "  Loss : 1.200000  |  epoch 1701/5000\n",
            "  Loss : 1.100000  |  epoch 1711/5000\n",
            "  Loss : 1.500000  |  epoch 1721/5000\n",
            "  Loss : 3.100000  |  epoch 1731/5000\n",
            "  Loss : 2.200000  |  epoch 1741/5000\n",
            "  Loss : 0.400000  |  epoch 1751/5000\n",
            "  Loss : 1.100000  |  epoch 1761/5000\n",
            "  Loss : 1.500000  |  epoch 1771/5000\n",
            "  Loss : 0.800000  |  epoch 1781/5000\n",
            "  Loss : 0.700000  |  epoch 1791/5000\n",
            "  Loss : 1.600000  |  epoch 1801/5000\n",
            "  Loss : 1.400000  |  epoch 1811/5000\n",
            "  Loss : 1.000000  |  epoch 1821/5000\n",
            "  Loss : 1.000000  |  epoch 1831/5000\n",
            "  Loss : 1.100000  |  epoch 1841/5000\n",
            "  Loss : 1.500000  |  epoch 1851/5000\n",
            "  Loss : 1.300000  |  epoch 1861/5000\n",
            "  Loss : 1.400000  |  epoch 1871/5000\n",
            "  Loss : 1.400000  |  epoch 1881/5000\n",
            "  Loss : 1.200000  |  epoch 1891/5000\n",
            "  Loss : 0.500000  |  epoch 1901/5000\n",
            "  Loss : 1.400000  |  epoch 1911/5000\n",
            "  Loss : 1.500000  |  epoch 1921/5000\n",
            "  Loss : 0.200000  |  epoch 1931/5000\n",
            "  Loss : 1.700000  |  epoch 1941/5000\n",
            "  Loss : 1.000000  |  epoch 1951/5000\n",
            "  Loss : 0.700000  |  epoch 1961/5000\n",
            "  Loss : 0.800000  |  epoch 1971/5000\n",
            "  Loss : 0.600000  |  epoch 1981/5000\n",
            "  Loss : 0.800000  |  epoch 1991/5000\n",
            "  Loss : 0.600000  |  epoch 2001/5000\n",
            "  Loss : 1.400000  |  epoch 2011/5000\n",
            "  Loss : 1.500000  |  epoch 2021/5000\n",
            "  Loss : 1.100000  |  epoch 2031/5000\n",
            "  Loss : 1.500000  |  epoch 2041/5000\n",
            "  Loss : 0.700000  |  epoch 2051/5000\n",
            "  Loss : 1.200000  |  epoch 2061/5000\n",
            "  Loss : 1.400000  |  epoch 2071/5000\n",
            "  Loss : 1.200000  |  epoch 2081/5000\n",
            "  Loss : 0.800000  |  epoch 2091/5000\n",
            "  Loss : 1.000000  |  epoch 2101/5000\n",
            "  Loss : 1.500000  |  epoch 2111/5000\n",
            "  Loss : 0.800000  |  epoch 2121/5000\n",
            "  Loss : 1.000000  |  epoch 2131/5000\n",
            "  Loss : 1.000000  |  epoch 2141/5000\n",
            "  Loss : 1.100000  |  epoch 2151/5000\n",
            "  Loss : 0.500000  |  epoch 2161/5000\n",
            "  Loss : 0.700000  |  epoch 2171/5000\n",
            "  Loss : 1.100000  |  epoch 2181/5000\n",
            "  Loss : 0.600000  |  epoch 2191/5000\n",
            "  Loss : 2.000000  |  epoch 2201/5000\n",
            "  Loss : 0.700000  |  epoch 2211/5000\n",
            "  Loss : 1.200000  |  epoch 2221/5000\n",
            "  Loss : 1.000000  |  epoch 2231/5000\n",
            "  Loss : 1.300000  |  epoch 2241/5000\n",
            "  Loss : 0.800000  |  epoch 2251/5000\n",
            "  Loss : 0.900000  |  epoch 2261/5000\n",
            "  Loss : 0.800000  |  epoch 2271/5000\n",
            "  Loss : 1.300000  |  epoch 2281/5000\n",
            "  Loss : 0.900000  |  epoch 2291/5000\n",
            "  Loss : 0.600000  |  epoch 2301/5000\n",
            "  Loss : 1.000000  |  epoch 2311/5000\n",
            "  Loss : 1.200000  |  epoch 2321/5000\n",
            "  Loss : 0.900000  |  epoch 2331/5000\n",
            "  Loss : 1.100000  |  epoch 2341/5000\n",
            "  Loss : 0.700000  |  epoch 2351/5000\n",
            "  Loss : 1.300000  |  epoch 2361/5000\n",
            "  Loss : 0.600000  |  epoch 2371/5000\n",
            "  Loss : 1.200000  |  epoch 2381/5000\n",
            "  Loss : 1.200000  |  epoch 2391/5000\n",
            "  Loss : 1.100000  |  epoch 2401/5000\n",
            "  Loss : 0.900000  |  epoch 2411/5000\n",
            "  Loss : 0.200000  |  epoch 2421/5000\n",
            "  Loss : 0.600000  |  epoch 2431/5000\n",
            "  Loss : 0.300000  |  epoch 2441/5000\n",
            "  Loss : 0.300000  |  epoch 2451/5000\n",
            "  Loss : 0.600000  |  epoch 2461/5000\n",
            "  Loss : 1.100000  |  epoch 2471/5000\n",
            "  Loss : 0.800000  |  epoch 2481/5000\n",
            "  Loss : 1.000000  |  epoch 2491/5000\n",
            "  Loss : 1.500000  |  epoch 2501/5000\n",
            "  Loss : 1.500000  |  epoch 2511/5000\n",
            "  Loss : 1.200000  |  epoch 2521/5000\n",
            "  Loss : 0.600000  |  epoch 2531/5000\n",
            "  Loss : 0.500000  |  epoch 2541/5000\n",
            "  Loss : 1.500000  |  epoch 2551/5000\n",
            "  Loss : 0.900000  |  epoch 2561/5000\n",
            "  Loss : 1.500000  |  epoch 2571/5000\n",
            "  Loss : 1.200000  |  epoch 2581/5000\n",
            "  Loss : 1.300000  |  epoch 2591/5000\n",
            "  Loss : 0.800000  |  epoch 2601/5000\n",
            "  Loss : 0.300000  |  epoch 2611/5000\n",
            "  Loss : 1.500000  |  epoch 2621/5000\n",
            "  Loss : 1.000000  |  epoch 2631/5000\n",
            "  Loss : 0.800000  |  epoch 2641/5000\n",
            "  Loss : 1.000000  |  epoch 2651/5000\n",
            "  Loss : 0.400000  |  epoch 2661/5000\n",
            "  Loss : 0.400000  |  epoch 2671/5000\n",
            "  Loss : 1.000000  |  epoch 2681/5000\n",
            "  Loss : 0.600000  |  epoch 2691/5000\n",
            "  Loss : 0.400000  |  epoch 2701/5000\n",
            "  Loss : 0.500000  |  epoch 2711/5000\n",
            "  Loss : 1.300000  |  epoch 2721/5000\n",
            "  Loss : 1.200000  |  epoch 2731/5000\n",
            "  Loss : 0.900000  |  epoch 2741/5000\n",
            "  Loss : 0.900000  |  epoch 2751/5000\n",
            "  Loss : 1.000000  |  epoch 2761/5000\n",
            "  Loss : 0.800000  |  epoch 2771/5000\n",
            "  Loss : 1.400000  |  epoch 2781/5000\n",
            "  Loss : 0.600000  |  epoch 2791/5000\n",
            "  Loss : 0.300000  |  epoch 2801/5000\n",
            "  Loss : 0.300000  |  epoch 2811/5000\n",
            "  Loss : 1.300000  |  epoch 2821/5000\n",
            "  Loss : 0.500000  |  epoch 2831/5000\n",
            "  Loss : 0.700000  |  epoch 2841/5000\n",
            "  Loss : 0.800000  |  epoch 2851/5000\n",
            "  Loss : 1.000000  |  epoch 2861/5000\n",
            "  Loss : 0.700000  |  epoch 2871/5000\n",
            "  Loss : 1.100000  |  epoch 2881/5000\n",
            "  Loss : 0.600000  |  epoch 2891/5000\n",
            "  Loss : 1.000000  |  epoch 2901/5000\n",
            "  Loss : 0.300000  |  epoch 2911/5000\n",
            "  Loss : 0.600000  |  epoch 2921/5000\n",
            "  Loss : 0.300000  |  epoch 2931/5000\n",
            "  Loss : 0.500000  |  epoch 2941/5000\n",
            "  Loss : 0.400000  |  epoch 2951/5000\n",
            "  Loss : 1.700000  |  epoch 2961/5000\n",
            "  Loss : 1.000000  |  epoch 2971/5000\n",
            "  Loss : 0.800000  |  epoch 2981/5000\n",
            "  Loss : 0.700000  |  epoch 2991/5000\n",
            "  Loss : 0.700000  |  epoch 3001/5000\n",
            "  Loss : 0.100000  |  epoch 3011/5000\n",
            "  Loss : 1.100000  |  epoch 3021/5000\n",
            "  Loss : 1.300000  |  epoch 3031/5000\n",
            "  Loss : 0.600000  |  epoch 3041/5000\n",
            "  Loss : 0.400000  |  epoch 3051/5000\n",
            "  Loss : 0.700000  |  epoch 3061/5000\n",
            "  Loss : 1.100000  |  epoch 3071/5000\n",
            "  Loss : 0.600000  |  epoch 3081/5000\n",
            "  Loss : 0.300000  |  epoch 3091/5000\n",
            "  Loss : 0.300000  |  epoch 3101/5000\n",
            "  Loss : 0.300000  |  epoch 3111/5000\n",
            "  Loss : 0.800000  |  epoch 3121/5000\n",
            "  Loss : 0.600000  |  epoch 3131/5000\n",
            "  Loss : 0.400000  |  epoch 3141/5000\n",
            "  Loss : 0.800000  |  epoch 3151/5000\n",
            "  Loss : 0.500000  |  epoch 3161/5000\n",
            "  Loss : 0.400000  |  epoch 3171/5000\n",
            "  Loss : 0.800000  |  epoch 3181/5000\n",
            "  Loss : 0.300000  |  epoch 3191/5000\n",
            "  Loss : 0.700000  |  epoch 3201/5000\n",
            "  Loss : 0.400000  |  epoch 3211/5000\n",
            "  Loss : 0.800000  |  epoch 3221/5000\n",
            "  Loss : 0.400000  |  epoch 3231/5000\n",
            "  Loss : 0.500000  |  epoch 3241/5000\n",
            "  Loss : 0.800000  |  epoch 3251/5000\n",
            "  Loss : 0.800000  |  epoch 3261/5000\n",
            "  Loss : 0.700000  |  epoch 3271/5000\n",
            "  Loss : 0.900000  |  epoch 3281/5000\n",
            "  Loss : 0.700000  |  epoch 3291/5000\n",
            "  Loss : 0.300000  |  epoch 3301/5000\n",
            "  Loss : 0.300000  |  epoch 3311/5000\n",
            "  Loss : 0.500000  |  epoch 3321/5000\n",
            "  Loss : 1.700000  |  epoch 3331/5000\n",
            "  Loss : 1.000000  |  epoch 3341/5000\n",
            "  Loss : 1.100000  |  epoch 3351/5000\n",
            "  Loss : 0.600000  |  epoch 3361/5000\n",
            "  Loss : 0.600000  |  epoch 3371/5000\n",
            "  Loss : 0.300000  |  epoch 3381/5000\n",
            "  Loss : 0.700000  |  epoch 3391/5000\n",
            "  Loss : 0.500000  |  epoch 3401/5000\n",
            "  Loss : 0.600000  |  epoch 3411/5000\n",
            "  Loss : 0.800000  |  epoch 3421/5000\n",
            "  Loss : 0.500000  |  epoch 3431/5000\n",
            "  Loss : 0.700000  |  epoch 3441/5000\n",
            "  Loss : 0.300000  |  epoch 3451/5000\n",
            "  Loss : 1.000000  |  epoch 3461/5000\n",
            "  Loss : 0.900000  |  epoch 3471/5000\n",
            "  Loss : 0.700000  |  epoch 3481/5000\n",
            "  Loss : 1.200000  |  epoch 3491/5000\n",
            "  Loss : 0.600000  |  epoch 3501/5000\n",
            "  Loss : 0.800000  |  epoch 3511/5000\n",
            "  Loss : 0.300000  |  epoch 3521/5000\n",
            "  Loss : 0.700000  |  epoch 3531/5000\n",
            "  Loss : 0.900000  |  epoch 3541/5000\n",
            "  Loss : 0.700000  |  epoch 3551/5000\n",
            "  Loss : 1.500000  |  epoch 3561/5000\n",
            "  Loss : 1.200000  |  epoch 3571/5000\n",
            "  Loss : 0.800000  |  epoch 3581/5000\n",
            "  Loss : 0.500000  |  epoch 3591/5000\n",
            "  Loss : 1.000000  |  epoch 3601/5000\n",
            "  Loss : 0.600000  |  epoch 3611/5000\n",
            "  Loss : 1.100000  |  epoch 3621/5000\n",
            "  Loss : 0.400000  |  epoch 3631/5000\n",
            "  Loss : 1.200000  |  epoch 3641/5000\n",
            "  Loss : 0.600000  |  epoch 3651/5000\n",
            "  Loss : 0.800000  |  epoch 3661/5000\n",
            "  Loss : 0.500000  |  epoch 3671/5000\n",
            "  Loss : 0.700000  |  epoch 3681/5000\n",
            "  Loss : 0.700000  |  epoch 3691/5000\n",
            "  Loss : 1.400000  |  epoch 3701/5000\n",
            "  Loss : 1.000000  |  epoch 3711/5000\n",
            "  Loss : 0.500000  |  epoch 3721/5000\n",
            "  Loss : 0.800000  |  epoch 3731/5000\n",
            "  Loss : 0.700000  |  epoch 3741/5000\n",
            "  Loss : 0.900000  |  epoch 3751/5000\n",
            "  Loss : 0.800000  |  epoch 3761/5000\n",
            "  Loss : 0.700000  |  epoch 3771/5000\n",
            "  Loss : 0.900000  |  epoch 3781/5000\n",
            "  Loss : 0.900000  |  epoch 3791/5000\n",
            "  Loss : 0.500000  |  epoch 3801/5000\n",
            "  Loss : 0.600000  |  epoch 3811/5000\n",
            "  Loss : 0.800000  |  epoch 3821/5000\n",
            "  Loss : 0.500000  |  epoch 3831/5000\n",
            "  Loss : 0.200000  |  epoch 3841/5000\n",
            "  Loss : 0.100000  |  epoch 3851/5000\n",
            "  Loss : 0.800000  |  epoch 3861/5000\n",
            "  Loss : 0.600000  |  epoch 3871/5000\n",
            "  Loss : 0.800000  |  epoch 3881/5000\n",
            "  Loss : 0.800000  |  epoch 3891/5000\n",
            "  Loss : 0.300000  |  epoch 3901/5000\n",
            "  Loss : 0.300000  |  epoch 3911/5000\n",
            "  Loss : 0.400000  |  epoch 3921/5000\n",
            "  Loss : 0.700000  |  epoch 3931/5000\n",
            "  Loss : 0.200000  |  epoch 3941/5000\n",
            "  Loss : 0.600000  |  epoch 3951/5000\n",
            "  Loss : 0.900000  |  epoch 3961/5000\n",
            "  Loss : 0.600000  |  epoch 3971/5000\n",
            "  Loss : 0.700000  |  epoch 3981/5000\n",
            "  Loss : 0.700000  |  epoch 3991/5000\n",
            "  Loss : 0.900000  |  epoch 4001/5000\n",
            "  Loss : 0.900000  |  epoch 4011/5000\n",
            "  Loss : 0.400000  |  epoch 4021/5000\n",
            "  Loss : 0.100000  |  epoch 4031/5000\n",
            "  Loss : 0.300000  |  epoch 4041/5000\n",
            "  Loss : 1.000000  |  epoch 4051/5000\n",
            "  Loss : 0.400000  |  epoch 4061/5000\n",
            "  Loss : 0.900000  |  epoch 4071/5000\n",
            "  Loss : 0.600000  |  epoch 4081/5000\n",
            "  Loss : 0.900000  |  epoch 4091/5000\n",
            "  Loss : 1.200000  |  epoch 4101/5000\n",
            "  Loss : 0.100000  |  epoch 4111/5000\n",
            "  Loss : 0.400000  |  epoch 4121/5000\n",
            "  Loss : 0.400000  |  epoch 4131/5000\n",
            "  Loss : 0.300000  |  epoch 4141/5000\n",
            "  Loss : 0.700000  |  epoch 4151/5000\n",
            "  Loss : 0.200000  |  epoch 4161/5000\n",
            "  Loss : 0.500000  |  epoch 4171/5000\n",
            "  Loss : 0.300000  |  epoch 4181/5000\n",
            "  Loss : 0.400000  |  epoch 4191/5000\n",
            "  Loss : 0.200000  |  epoch 4201/5000\n",
            "  Loss : 0.300000  |  epoch 4211/5000\n",
            "  Loss : 0.400000  |  epoch 4221/5000\n",
            "  Loss : 0.500000  |  epoch 4231/5000\n",
            "  Loss : 0.500000  |  epoch 4241/5000\n",
            "  Loss : 0.100000  |  epoch 4251/5000\n",
            "  Loss : 0.200000  |  epoch 4261/5000\n",
            "  Loss : 0.400000  |  epoch 4271/5000\n",
            "  Loss : 0.200000  |  epoch 4281/5000\n",
            "  Loss : 0.500000  |  epoch 4291/5000\n",
            "  Loss : 0.700000  |  epoch 4301/5000\n",
            "  Loss : 0.300000  |  epoch 4311/5000\n",
            "  Loss : 0.400000  |  epoch 4321/5000\n",
            "  Loss : 0.100000  |  epoch 4331/5000\n",
            "  Loss : 0.500000  |  epoch 4341/5000\n",
            "  Loss : 0.700000  |  epoch 4351/5000\n",
            "  Loss : 1.000000  |  epoch 4361/5000\n",
            "  Loss : 0.600000  |  epoch 4371/5000\n",
            "  Loss : 0.500000  |  epoch 4381/5000\n",
            "  Loss : 0.800000  |  epoch 4391/5000\n",
            "  Loss : 0.300000  |  epoch 4401/5000\n",
            "  Loss : 0.800000  |  epoch 4411/5000\n",
            "  Loss : 0.300000  |  epoch 4421/5000\n",
            "  Loss : 0.400000  |  epoch 4431/5000\n",
            "  Loss : 0.600000  |  epoch 4441/5000\n",
            "  Loss : 0.600000  |  epoch 4451/5000\n",
            "  Loss : 0.500000  |  epoch 4461/5000\n",
            "  Loss : 0.300000  |  epoch 4471/5000\n",
            "  Loss : 0.500000  |  epoch 4481/5000\n",
            "  Loss : 0.500000  |  epoch 4491/5000\n",
            "  Loss : 1.000000  |  epoch 4501/5000\n",
            "  Loss : 0.600000  |  epoch 4511/5000\n",
            "  Loss : 0.800000  |  epoch 4521/5000\n",
            "  Loss : 0.200000  |  epoch 4531/5000\n",
            "  Loss : 0.400000  |  epoch 4541/5000\n",
            "  Loss : 0.900000  |  epoch 4551/5000\n",
            "  Loss : 0.300000  |  epoch 4561/5000\n",
            "  Loss : 0.600000  |  epoch 4571/5000\n",
            "  Loss : 0.700000  |  epoch 4581/5000\n",
            "  Loss : 0.400000  |  epoch 4591/5000\n",
            "  Loss : 0.800000  |  epoch 4601/5000\n",
            "  Loss : 0.500000  |  epoch 4611/5000\n",
            "  Loss : 0.600000  |  epoch 4621/5000\n",
            "  Loss : 0.600000  |  epoch 4631/5000\n",
            "  Loss : 0.400000  |  epoch 4641/5000\n",
            "  Loss : 0.500000  |  epoch 4651/5000\n",
            "  Loss : 0.300000  |  epoch 4661/5000\n",
            "  Loss : 0.500000  |  epoch 4671/5000\n",
            "  Loss : 0.500000  |  epoch 4681/5000\n",
            "  Loss : 0.300000  |  epoch 4691/5000\n",
            "  Loss : 0.200000  |  epoch 4701/5000\n",
            "  Loss : 0.800000  |  epoch 4711/5000\n",
            "  Loss : 0.700000  |  epoch 4721/5000\n",
            "  Loss : 0.500000  |  epoch 4731/5000\n",
            "  Loss : 0.500000  |  epoch 4741/5000\n",
            "  Loss : 0.300000  |  epoch 4751/5000\n",
            "  Loss : 0.300000  |  epoch 4761/5000\n",
            "  Loss : 0.700000  |  epoch 4771/5000\n",
            "  Loss : 0.400000  |  epoch 4781/5000\n",
            "  Loss : 0.600000  |  epoch 4791/5000\n",
            "  Loss : 0.700000  |  epoch 4801/5000\n",
            "  Loss : 0.200000  |  epoch 4811/5000\n",
            "  Loss : 0.300000  |  epoch 4821/5000\n",
            "  Loss : 0.200000  |  epoch 4831/5000\n",
            "  Loss : 0.600000  |  epoch 4841/5000\n",
            "  Loss : 0.700000  |  epoch 4851/5000\n",
            "  Loss : 0.800000  |  epoch 4861/5000\n",
            "  Loss : 0.800000  |  epoch 4871/5000\n",
            "  Loss : 0.500000  |  epoch 4881/5000\n",
            "  Loss : 0.600000  |  epoch 4891/5000\n",
            "  Loss : 0.100000  |  epoch 4901/5000\n",
            "  Loss : 0.500000  |  epoch 4911/5000\n",
            "  Loss : 0.500000  |  epoch 4921/5000\n",
            "  Loss : 0.200000  |  epoch 4931/5000\n",
            "  Loss : 0.700000  |  epoch 4941/5000\n",
            "  Loss : 0.400000  |  epoch 4951/5000\n",
            "  Loss : 0.800000  |  epoch 4961/5000\n",
            "  Loss : 0.800000  |  epoch 4971/5000\n",
            "  Loss : 0.100000  |  epoch 4981/5000\n",
            "  Loss : 0.100000  |  epoch 4991/5000\n"
          ]
        },
        {
          "output_type": "display_data",
          "data": {
            "text/plain": [
              "<Figure size 432x288 with 0 Axes>"
            ]
          },
          "metadata": {}
        },
        {
          "output_type": "display_data",
          "data": {
            "text/plain": [
              "<Figure size 432x288 with 0 Axes>"
            ]
          },
          "metadata": {}
        },
        {
          "output_type": "display_data",
          "data": {
            "text/plain": [
              "<Figure size 432x288 with 0 Axes>"
            ]
          },
          "metadata": {}
        },
        {
          "output_type": "display_data",
          "data": {
            "text/plain": [
              "<Figure size 432x288 with 0 Axes>"
            ]
          },
          "metadata": {}
        },
        {
          "output_type": "display_data",
          "data": {
            "text/plain": [
              "<Figure size 432x288 with 0 Axes>"
            ]
          },
          "metadata": {}
        },
        {
          "output_type": "display_data",
          "data": {
            "text/plain": [
              "<Figure size 432x288 with 0 Axes>"
            ]
          },
          "metadata": {}
        },
        {
          "output_type": "display_data",
          "data": {
            "text/plain": [
              "<Figure size 432x288 with 0 Axes>"
            ]
          },
          "metadata": {}
        },
        {
          "output_type": "display_data",
          "data": {
            "text/plain": [
              "<Figure size 432x288 with 0 Axes>"
            ]
          },
          "metadata": {}
        },
        {
          "output_type": "display_data",
          "data": {
            "text/plain": [
              "<Figure size 432x288 with 0 Axes>"
            ]
          },
          "metadata": {}
        },
        {
          "output_type": "display_data",
          "data": {
            "image/png": "[encoded data removed]",
            "text/plain": [
              "<Figure size 432x288 with 1 Axes>"
            ]
          },
          "metadata": {
            "needs_background": "light"
          }
        }
      ]
    },
    {
      "cell_type": "markdown",
      "metadata": {
        "id": "PONsgdZgaq0D"
      },
      "source": [
        "## Conclusions for Binary Alpha Digits"
      ]
    },
    {
      "cell_type": "markdown",
      "metadata": {
        "id": "2jJNJ1LHYkUH"
      },
      "source": [
        "The reconstruction error diminishes with the growing number of hidden units. A high number enables the algorithm to a better recognition of patterns. Here are the results for Binary Alpha Digits dataset. "
      ]
    },
    {
      "cell_type": "markdown",
      "metadata": {
        "id": "szQnZmV7Y-6Z"
      },
      "source": [
        "| Number of hidden units| Reconstruction error  |\n",
        "|-----------------------|-----------------------|\n",
        "|                10     |               44.80   |\n",
        "|               100     |               0.014   |\n",
        "|              1000     |             0.00014   |"
      ]
    },
    {
      "cell_type": "markdown",
      "metadata": {
        "id": "UTqR_-VVaW_i"
      },
      "source": [
        "We obtain a reconstruction of the image with a high quality for $400$ hidden units."
      ]
    },
    {
      "cell_type": "markdown",
      "metadata": {
        "id": "LHN_4U7TauCT"
      },
      "source": [
        "## The datasets MNIST and USPS"
      ]
    },
    {
      "cell_type": "markdown",
      "metadata": {
        "id": "d96-DpGQawy4"
      },
      "source": [
        "Those datasets are both 8-bit images in shades of grey representing numbers between 0 and 9. As the MNIST dataset contains $7000$ samples by class and USPS contains $1100$ samples by class, we randomly select $250$ samples for each dataset MNIST and USPS "
      ]
    },
    {
      "cell_type": "markdown",
      "metadata": {
        "id": "Z-5WXv4Sbm-4"
      },
      "source": [
        "## Conclusions for MNIST"
      ]
    },
    {
      "cell_type": "markdown",
      "metadata": {
        "id": "WUqjhwdbbpSU"
      },
      "source": [
        "The training for MNIST dataset has a higher computational time than the trainings over the two other datasets. This can be explained by the difference in the dimension of the input layer, which is greater for MNIST dataset.\n",
        "Those dimensions are respectively $28*28 = 784$ for MNIST, $20*16 = 320$ for Binary Alpha Digits and $16*16=256$ for USPS. Therefore, we reduce the number of epochs for the training, which requires several minutes for MNIST dataset but few seconds for Binary Alpha Digits dataset."
      ]
    },
    {
      "cell_type": "markdown",
      "metadata": {
        "id": "0Ogz1MMMdgMe"
      },
      "source": [
        "We fail to reach the same quality of reconstruction than the one obtained with previous dataset, even if we rise the number of hidden units to $1000$. We suceed to obtain a satisfactory result."
      ]
    },
    {
      "cell_type": "markdown",
      "metadata": {
        "id": "1vCG0SCUebKX"
      },
      "source": [
        "## Conclusions for USPS"
      ]
    },
    {
      "cell_type": "markdown",
      "metadata": {
        "id": "SH_fB1FTegKX"
      },
      "source": [
        "The learning is fast but the reconstruction of the dataset fails, even if we rise the number of hidden units to $1000$"
      ]
    },
    {
      "cell_type": "markdown",
      "metadata": {
        "id": "zvUfCMLveveW"
      },
      "source": [
        "# Conclusions"
      ]
    },
    {
      "cell_type": "markdown",
      "metadata": {
        "id": "nE_S9RoBexE-"
      },
      "source": [
        "The learning on Restricted Boltzmann Machines is faster than the training on a fully-connected neural network, it enables to reconstruct images faster. However, we have also seen that the performances are not satisfactory enough. For a simple dataset often use to test performances of a learning algorithm such as MNIST, the algorithm fails to reconstruct the images. Also, the Restricted Boltzmann Machine needs an important number of hidden units, where a single layer of a variational autoencoder is capable of the same results.\n",
        "\n",
        "\n",
        "Restricted Boltzmann Machines are less used in companies because other models performs better, such as feed-forward networks like variational autoencoders or generative adversarial networks. Some industries continue to use those algorithms as they succeed to show high performances, like in vocal recognition."
      ]
    }
  ]
}